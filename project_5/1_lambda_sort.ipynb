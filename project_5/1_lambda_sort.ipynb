{
 "cells": [
  {
   "cell_type": "markdown",
   "metadata": {},
   "source": [
    "Поиск анаграмм с помощью лямбда-функций и сортировки\n",
    "Анаграммы — часто встречающийся при собеседованиях программистов вопрос на проверку кругозора в области компьютерных наук и умения разрабатывать собственные простые алгоритмы. В этом разделе мы расскажем о простом алгоритме для поиска анаграмм на языке Python."
   ]
  },
  {
   "cell_type": "code",
   "execution_count": 1,
   "metadata": {},
   "outputs": [
    {
     "name": "stdout",
     "output_type": "stream",
     "text": [
      "True\n",
      "True\n",
      "False\n"
     ]
    }
   ],
   "source": [
    "is_anagram = lambda x1, x2: sorted(x1) == sorted(x2)\n",
    "print(is_anagram(\"elvis\", \"lives\"))\n",
    "print(is_anagram(\"elvise\", \"livees\"))\n",
    "print(is_anagram(\"elvis\", \"hmmmm\"))"
   ]
  },
  {
   "cell_type": "code",
   "execution_count": 17,
   "metadata": {},
   "outputs": [
    {
     "name": "stdout",
     "output_type": "stream",
     "text": [
      "anagrama?\n",
      "Anagrama!\n",
      "None\n",
      "sivle sevil\n"
     ]
    }
   ],
   "source": [
    "'''\n",
    "import numpy as np\n",
    "def anagrama(x1, x2):\n",
    "    try:\n",
    "        print(\"anagrama?\")\n",
    "        if x1 == x2[::-1]:\n",
    "            print(\"Anagrama!\")\n",
    "        else:\n",
    "            print(\"nope\")\n",
    "    except:\n",
    "        print(\"не вышло\")\n",
    "print(anagrama(\"anna\", \"anna\"))\n",
    "# палидром\n",
    "'''\n"
   ]
  },
  {
   "cell_type": "markdown",
   "metadata": {},
   "source": [
    "Принцип работы\n",
    "Два строковых значения — анаграммы, если у них совпадают отсортированные последовательности символов, так что мы сортируем их и сравниваем поэлементно. Это несложно и не требует никаких внешних зависимостей. Просто создаем функцию is_anagram()  путем описания лямбда-функции (см. главу 1) с двумя аргументами x1 и x2, которая возвращает результат выражения sorted(x1) == sorted(x2) — True, если отсортированные последовательности символов совпадают. Ниже представлен результат сортировки двух последовательностей символов:\n",
    "print(sorted(\"elvis\"))\n",
    "['e', 'i', 'l', 's', 'v']\n",
    "print(sorted(\"lives\"))\n",
    "['e', 'i', 'l', 's', 'v']\n",
    "Обе строки 'elvis' и 'lives' состоят из одних символов, так что их представления в виде отсортированного списка одинаковы. Результаты вышеприведенных трех операторов print:"
   ]
  },
  {
   "cell_type": "code",
   "execution_count": null,
   "metadata": {},
   "outputs": [],
   "source": []
  }
 ],
 "metadata": {
  "interpreter": {
   "hash": "ad2bdc8ecc057115af97d19610ffacc2b4e99fae6737bb82f5d7fb13d2f2c186"
  },
  "kernelspec": {
   "display_name": "Python 3.9.7 ('base')",
   "language": "python",
   "name": "python3"
  },
  "language_info": {
   "codemirror_mode": {
    "name": "ipython",
    "version": 3
   },
   "file_extension": ".py",
   "mimetype": "text/x-python",
   "name": "python",
   "nbconvert_exporter": "python",
   "pygments_lexer": "ipython3",
   "version": "3.9.7"
  },
  "orig_nbformat": 4
 },
 "nbformat": 4,
 "nbformat_minor": 2
}
